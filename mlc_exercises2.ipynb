{
  "nbformat": 4,
  "nbformat_minor": 0,
  "metadata": {
    "colab": {
      "name": "mlc_exercises2.ipynb",
      "provenance": [],
      "collapsed_sections": []
    },
    "kernelspec": {
      "name": "python3",
      "display_name": "Python 3"
    },
    "language_info": {
      "name": "python"
    }
  },
  "cells": [
    {
      "cell_type": "markdown",
      "source": [
        "https://mlc.ai/zh/chapter_tensor_program/tensorir_exercises.html"
      ],
      "metadata": {
        "id": "R7wrPVAKAsJY"
      }
    },
    {
      "cell_type": "code",
      "execution_count": 1,
      "metadata": {
        "id": "curGP8DUa29r",
        "colab": {
          "base_uri": "https://localhost:8080/"
        },
        "outputId": "0f8c62c6-a78b-41dd-b422-16895f193ae0"
      },
      "outputs": [
        {
          "output_type": "stream",
          "name": "stdout",
          "text": [
            "Looking in indexes: https://pypi.org/simple, https://us-python.pkg.dev/colab-wheels/public/simple/\n",
            "Looking in links: https://mlc.ai/wheels\n",
            "Collecting mlc-ai-nightly\n",
            "  Downloading https://github.com/mlc-ai/utils/releases/download/v0.9.dev0/mlc_ai_nightly-0.9.dev1664%2Bg1f3985de0-cp37-cp37m-manylinux_2_17_x86_64.manylinux2014_x86_64.whl (43.3 MB)\n",
            "\u001b[K     |████████████████████████████████| 43.3 MB 1.9 MB/s \n",
            "\u001b[?25hRequirement already satisfied: attrs in /usr/local/lib/python3.7/dist-packages (from mlc-ai-nightly) (21.4.0)\n",
            "Requirement already satisfied: decorator in /usr/local/lib/python3.7/dist-packages (from mlc-ai-nightly) (4.4.2)\n",
            "Requirement already satisfied: numpy in /usr/local/lib/python3.7/dist-packages (from mlc-ai-nightly) (1.21.6)\n",
            "Requirement already satisfied: psutil in /usr/local/lib/python3.7/dist-packages (from mlc-ai-nightly) (5.4.8)\n",
            "Requirement already satisfied: tornado in /usr/local/lib/python3.7/dist-packages (from mlc-ai-nightly) (5.1.1)\n",
            "Requirement already satisfied: scipy in /usr/local/lib/python3.7/dist-packages (from mlc-ai-nightly) (1.4.1)\n",
            "Collecting synr==0.6.0\n",
            "  Downloading synr-0.6.0-py3-none-any.whl (18 kB)\n",
            "Requirement already satisfied: cloudpickle in /usr/local/lib/python3.7/dist-packages (from mlc-ai-nightly) (1.3.0)\n",
            "Installing collected packages: synr, mlc-ai-nightly\n",
            "Successfully installed mlc-ai-nightly-0.9.dev1664+g1f3985de0 synr-0.6.0\n"
          ]
        }
      ],
      "source": [
        "!python3 -m  pip install mlc-ai-nightly -f https://mlc.ai/wheels"
      ]
    },
    {
      "cell_type": "markdown",
      "source": [
        "Import lib"
      ],
      "metadata": {
        "id": "QW2GXJaUb9bO"
      }
    },
    {
      "cell_type": "code",
      "source": [
        "import IPython\n",
        "import numpy as np\n",
        "import tvm\n",
        "from tvm.ir.module import IRModule\n",
        "from tvm.script import tir as T"
      ],
      "metadata": {
        "id": "XvoYVLJub9BQ"
      },
      "execution_count": 2,
      "outputs": []
    },
    {
      "cell_type": "markdown",
      "source": [
        "Section 1: How to Write TensorIR"
      ],
      "metadata": {
        "id": "artIb_i7cOA7"
      }
    },
    {
      "cell_type": "code",
      "source": [
        "# init data\n",
        "a = np.arange(16).reshape(4, 4)\n",
        "b = np.arange(4, 0, -1).reshape(4)"
      ],
      "metadata": {
        "id": "D1azq1j_cRdp"
      },
      "execution_count": null,
      "outputs": []
    },
    {
      "cell_type": "code",
      "source": [
        "# numpy version\n",
        "c_np = a + b\n",
        "c_np"
      ],
      "metadata": {
        "colab": {
          "base_uri": "https://localhost:8080/"
        },
        "id": "EL5AX58Dc81M",
        "outputId": "3ef9e024-5164-45b8-eefb-71c385995642"
      },
      "execution_count": null,
      "outputs": [
        {
          "output_type": "execute_result",
          "data": {
            "text/plain": [
              "array([[ 4,  4,  4,  4],\n",
              "       [ 8,  8,  8,  8],\n",
              "       [12, 12, 12, 12],\n",
              "       [16, 16, 16, 16]])"
            ]
          },
          "metadata": {},
          "execution_count": 12
        }
      ]
    },
    {
      "cell_type": "code",
      "source": [
        "@tvm.script.ir_module\n",
        "class MyAdd:\n",
        "  @T.prim_func\n",
        "  def add(A: T.Buffer[(4, 4), \"int64\"],\n",
        "          B: T.Buffer[(4), \"int64\"],\n",
        "          C: T.Buffer[(4, 4), \"int64\"]):\n",
        "    T.func_attr({\"global_symbol\": \"add\", \"tir.noalias\": True})\n",
        "    for i, j in T.grid(4, 4):\n",
        "      with T.block(\"C\"):\n",
        "        vi = T.axis.spatial(4, i)\n",
        "        vj = T.axis.spatial(4, j)\n",
        "        C[vi, vj] = A[vi, vj] + B[vj]\n",
        "\n",
        "rt_lib = tvm.build(MyAdd, target=\"llvm\")\n",
        "a_tvm = tvm.nd.array(a)\n",
        "b_tvm = tvm.nd.array(b)\n",
        "c_tvm = tvm.nd.array(np.empty((4, 4), dtype=np.int64))\n",
        "rt_lib[\"add\"](a_tvm, b_tvm, c_tvm)\n",
        "np.testing.assert_allclose(c_tvm.numpy(), c_np, rtol=1e-5)"
      ],
      "metadata": {
        "id": "f5qQ0YpldCAv"
      },
      "execution_count": null,
      "outputs": []
    },
    {
      "cell_type": "markdown",
      "source": [
        "Exercise 2: 2D Convolution"
      ],
      "metadata": {
        "id": "Gegf_Fcv55PU"
      }
    },
    {
      "cell_type": "code",
      "source": [
        "N, CI, H, W, CO, K = 1, 1, 8, 8, 2, 3\n",
        "OUT_H, OUT_W = H - K + 1, W - K + 1 # 6,6\n",
        "data = np.arange(N*CI*H*W).reshape(N, CI, H, W) # 1,1,8,8\n",
        "weight = np.arange(CO*CI*K*K).reshape(CO, CI, K, K) # 2,1,3,3\n",
        "print(data)\n",
        "print(weight)"
      ],
      "metadata": {
        "colab": {
          "base_uri": "https://localhost:8080/"
        },
        "id": "7VoYNPCO58DX",
        "outputId": "a815ccaa-4bc9-45e5-fa36-03323d4e3ba3"
      },
      "execution_count": 4,
      "outputs": [
        {
          "output_type": "stream",
          "name": "stdout",
          "text": [
            "[[[[ 0  1  2  3  4  5  6  7]\n",
            "   [ 8  9 10 11 12 13 14 15]\n",
            "   [16 17 18 19 20 21 22 23]\n",
            "   [24 25 26 27 28 29 30 31]\n",
            "   [32 33 34 35 36 37 38 39]\n",
            "   [40 41 42 43 44 45 46 47]\n",
            "   [48 49 50 51 52 53 54 55]\n",
            "   [56 57 58 59 60 61 62 63]]]]\n",
            "[[[[ 0  1  2]\n",
            "   [ 3  4  5]\n",
            "   [ 6  7  8]]]\n",
            "\n",
            "\n",
            " [[[ 9 10 11]\n",
            "   [12 13 14]\n",
            "   [15 16 17]]]]\n"
          ]
        }
      ]
    },
    {
      "cell_type": "code",
      "source": [
        "# torch version\n",
        "import torch\n",
        "\n",
        "data_torch = torch.Tensor(data)\n",
        "weight_torch = torch.Tensor(weight)\n",
        "conv_torch = torch.nn.functional.conv2d(data_torch, weight_torch)\n",
        "conv_torch = conv_torch.numpy().astype(np.int64)\n",
        "conv_torch"
      ],
      "metadata": {
        "colab": {
          "base_uri": "https://localhost:8080/"
        },
        "id": "NQnFl0De6FVl",
        "outputId": "510170bd-572c-4797-ee58-04a167cd7e2c"
      },
      "execution_count": 5,
      "outputs": [
        {
          "output_type": "execute_result",
          "data": {
            "text/plain": [
              "array([[[[ 474,  510,  546,  582,  618,  654],\n",
              "         [ 762,  798,  834,  870,  906,  942],\n",
              "         [1050, 1086, 1122, 1158, 1194, 1230],\n",
              "         [1338, 1374, 1410, 1446, 1482, 1518],\n",
              "         [1626, 1662, 1698, 1734, 1770, 1806],\n",
              "         [1914, 1950, 1986, 2022, 2058, 2094]],\n",
              "\n",
              "        [[1203, 1320, 1437, 1554, 1671, 1788],\n",
              "         [2139, 2256, 2373, 2490, 2607, 2724],\n",
              "         [3075, 3192, 3309, 3426, 3543, 3660],\n",
              "         [4011, 4128, 4245, 4362, 4479, 4596],\n",
              "         [4947, 5064, 5181, 5298, 5415, 5532],\n",
              "         [5883, 6000, 6117, 6234, 6351, 6468]]]])"
            ]
          },
          "metadata": {},
          "execution_count": 5
        }
      ]
    },
    {
      "cell_type": "code",
      "source": [
        "@tvm.script.ir_module\n",
        "class MyConv:\n",
        "  @T.prim_func\n",
        "  def conv(A: T.Buffer[(N, CI, 8, 8), \"int64\"],\n",
        "           B: T.Buffer[(CO, CI, K, K), \"int64\"], \n",
        "           C: T.Buffer[(N, CO, OUT_H, OUT_W), \"int64\"]):\n",
        "    T.func_attr({\"global_symbol\": \"conv\", \"tir.noalias\": True})\n",
        "    for b, k, i, j, q, di, dj in T.grid(N, CO, OUT_H, OUT_W, CI, K, K):\n",
        "      with T.block(\"C\"):\n",
        "        vb, vk, vi, vj, vq, vdi, vdj = T.axis.remap(\"SSSSRRR\", [b, k, i, j, q, di, dj])\n",
        "        #vb, vk, vi, vj, vq, vdi, vdj = T.axis.remap(\"SSSSSRR\", [b, k, i, j, q, di, dj])\n",
        "        with T.init():\n",
        "          C[vb, vk, vi, vj] = T.int64(0)\n",
        "        C[vb, vk, vi, vj] = C[vb, vk, vi, vj] + A[vb, vq, vi + vdi, vj + vdj] * B[vk, vq, vdi, vdj]\n",
        "\n",
        "rt_lib = tvm.build(MyConv, target=\"llvm\")\n",
        "data_tvm = tvm.nd.array(data)\n",
        "weight_tvm = tvm.nd.array(weight)\n",
        "conv_tvm = tvm.nd.array(np.empty((N, CO, OUT_H, OUT_W), dtype=np.int64))\n",
        "rt_lib[\"conv\"](data_tvm, weight_tvm, conv_tvm)\n",
        "np.testing.assert_allclose(conv_tvm.numpy(), conv_torch, rtol=1e-5)"
      ],
      "metadata": {
        "id": "6BpSmMaq6b6D"
      },
      "execution_count": 25,
      "outputs": []
    },
    {
      "cell_type": "markdown",
      "source": [
        "Section 2: How to Transform TensorIR"
      ],
      "metadata": {
        "id": "7PqdSsZVQwYc"
      }
    },
    {
      "cell_type": "markdown",
      "source": [
        "Parallel, Vectorize and Unroll"
      ],
      "metadata": {
        "id": "ee98qJSNRGJi"
      }
    },
    {
      "cell_type": "code",
      "source": [
        "def code2html(code):\n",
        "    \"\"\"Helper function to use pygments to turn the code string into highlighted html.\"\"\"\n",
        "    import pygments\n",
        "    from pygments.lexers import Python3Lexer\n",
        "    from pygments.formatters import HtmlFormatter\n",
        "    formatter = HtmlFormatter()\n",
        "    html = pygments.highlight(code, Python3Lexer(), formatter)\n",
        "    return \"<style>%s</style>%s\\n\" % (formatter.get_style_defs(\".highlight\"), html)"
      ],
      "metadata": {
        "id": "EgZewNy0R6az"
      },
      "execution_count": 9,
      "outputs": []
    },
    {
      "cell_type": "code",
      "source": [
        "@tvm.script.ir_module\n",
        "class MyAdd:\n",
        "  @T.prim_func\n",
        "  def add(A: T.Buffer[(4, 4), \"int64\"],\n",
        "          B: T.Buffer[(4, 4), \"int64\"],\n",
        "          C: T.Buffer[(4, 4), \"int64\"]):\n",
        "    T.func_attr({\"global_symbol\": \"add\"})\n",
        "    for i, j in T.grid(4, 4):\n",
        "      with T.block(\"C\"):\n",
        "        vi = T.axis.spatial(4, i)\n",
        "        vj = T.axis.spatial(4, j)\n",
        "        C[vi, vj] = A[vi, vj] + B[vi, vj]\n",
        "\n",
        "sch = tvm.tir.Schedule(MyAdd)\n",
        "block = sch.get_block(\"C\", func_name=\"add\")\n",
        "i, j = sch.get_loops(block)\n",
        "i0, i1 = sch.split(i, factors=[2, 2])\n",
        "sch.parallel(i0)\n",
        "sch.unroll(i1)\n",
        "sch.vectorize(j)\n",
        "\n",
        "IPython.display.HTML(code2html(sch.mod.script()))"
      ],
      "metadata": {
        "colab": {
          "base_uri": "https://localhost:8080/",
          "height": 329
        },
        "id": "7IS5szMGRKnC",
        "outputId": "ef345c72-3a0a-4c4a-9e26-732f4b3d33c5"
      },
      "execution_count": 10,
      "outputs": [
        {
          "output_type": "execute_result",
          "data": {
            "text/plain": [
              "<IPython.core.display.HTML object>"
            ],
            "text/html": [
              "<style>.highlight .hll { background-color: #ffffcc }\n",
              ".highlight  { background: #f8f8f8; }\n",
              ".highlight .c { color: #408080; font-style: italic } /* Comment */\n",
              ".highlight .err { border: 1px solid #FF0000 } /* Error */\n",
              ".highlight .k { color: #008000; font-weight: bold } /* Keyword */\n",
              ".highlight .o { color: #666666 } /* Operator */\n",
              ".highlight .ch { color: #408080; font-style: italic } /* Comment.Hashbang */\n",
              ".highlight .cm { color: #408080; font-style: italic } /* Comment.Multiline */\n",
              ".highlight .cp { color: #BC7A00 } /* Comment.Preproc */\n",
              ".highlight .cpf { color: #408080; font-style: italic } /* Comment.PreprocFile */\n",
              ".highlight .c1 { color: #408080; font-style: italic } /* Comment.Single */\n",
              ".highlight .cs { color: #408080; font-style: italic } /* Comment.Special */\n",
              ".highlight .gd { color: #A00000 } /* Generic.Deleted */\n",
              ".highlight .ge { font-style: italic } /* Generic.Emph */\n",
              ".highlight .gr { color: #FF0000 } /* Generic.Error */\n",
              ".highlight .gh { color: #000080; font-weight: bold } /* Generic.Heading */\n",
              ".highlight .gi { color: #00A000 } /* Generic.Inserted */\n",
              ".highlight .go { color: #888888 } /* Generic.Output */\n",
              ".highlight .gp { color: #000080; font-weight: bold } /* Generic.Prompt */\n",
              ".highlight .gs { font-weight: bold } /* Generic.Strong */\n",
              ".highlight .gu { color: #800080; font-weight: bold } /* Generic.Subheading */\n",
              ".highlight .gt { color: #0044DD } /* Generic.Traceback */\n",
              ".highlight .kc { color: #008000; font-weight: bold } /* Keyword.Constant */\n",
              ".highlight .kd { color: #008000; font-weight: bold } /* Keyword.Declaration */\n",
              ".highlight .kn { color: #008000; font-weight: bold } /* Keyword.Namespace */\n",
              ".highlight .kp { color: #008000 } /* Keyword.Pseudo */\n",
              ".highlight .kr { color: #008000; font-weight: bold } /* Keyword.Reserved */\n",
              ".highlight .kt { color: #B00040 } /* Keyword.Type */\n",
              ".highlight .m { color: #666666 } /* Literal.Number */\n",
              ".highlight .s { color: #BA2121 } /* Literal.String */\n",
              ".highlight .na { color: #7D9029 } /* Name.Attribute */\n",
              ".highlight .nb { color: #008000 } /* Name.Builtin */\n",
              ".highlight .nc { color: #0000FF; font-weight: bold } /* Name.Class */\n",
              ".highlight .no { color: #880000 } /* Name.Constant */\n",
              ".highlight .nd { color: #AA22FF } /* Name.Decorator */\n",
              ".highlight .ni { color: #999999; font-weight: bold } /* Name.Entity */\n",
              ".highlight .ne { color: #D2413A; font-weight: bold } /* Name.Exception */\n",
              ".highlight .nf { color: #0000FF } /* Name.Function */\n",
              ".highlight .nl { color: #A0A000 } /* Name.Label */\n",
              ".highlight .nn { color: #0000FF; font-weight: bold } /* Name.Namespace */\n",
              ".highlight .nt { color: #008000; font-weight: bold } /* Name.Tag */\n",
              ".highlight .nv { color: #19177C } /* Name.Variable */\n",
              ".highlight .ow { color: #AA22FF; font-weight: bold } /* Operator.Word */\n",
              ".highlight .w { color: #bbbbbb } /* Text.Whitespace */\n",
              ".highlight .mb { color: #666666 } /* Literal.Number.Bin */\n",
              ".highlight .mf { color: #666666 } /* Literal.Number.Float */\n",
              ".highlight .mh { color: #666666 } /* Literal.Number.Hex */\n",
              ".highlight .mi { color: #666666 } /* Literal.Number.Integer */\n",
              ".highlight .mo { color: #666666 } /* Literal.Number.Oct */\n",
              ".highlight .sa { color: #BA2121 } /* Literal.String.Affix */\n",
              ".highlight .sb { color: #BA2121 } /* Literal.String.Backtick */\n",
              ".highlight .sc { color: #BA2121 } /* Literal.String.Char */\n",
              ".highlight .dl { color: #BA2121 } /* Literal.String.Delimiter */\n",
              ".highlight .sd { color: #BA2121; font-style: italic } /* Literal.String.Doc */\n",
              ".highlight .s2 { color: #BA2121 } /* Literal.String.Double */\n",
              ".highlight .se { color: #BB6622; font-weight: bold } /* Literal.String.Escape */\n",
              ".highlight .sh { color: #BA2121 } /* Literal.String.Heredoc */\n",
              ".highlight .si { color: #BB6688; font-weight: bold } /* Literal.String.Interpol */\n",
              ".highlight .sx { color: #008000 } /* Literal.String.Other */\n",
              ".highlight .sr { color: #BB6688 } /* Literal.String.Regex */\n",
              ".highlight .s1 { color: #BA2121 } /* Literal.String.Single */\n",
              ".highlight .ss { color: #19177C } /* Literal.String.Symbol */\n",
              ".highlight .bp { color: #008000 } /* Name.Builtin.Pseudo */\n",
              ".highlight .fm { color: #0000FF } /* Name.Function.Magic */\n",
              ".highlight .vc { color: #19177C } /* Name.Variable.Class */\n",
              ".highlight .vg { color: #19177C } /* Name.Variable.Global */\n",
              ".highlight .vi { color: #19177C } /* Name.Variable.Instance */\n",
              ".highlight .vm { color: #19177C } /* Name.Variable.Magic */\n",
              ".highlight .il { color: #666666 } /* Literal.Number.Integer.Long */</style><div class=\"highlight\"><pre><span></span><span class=\"nd\">@tvm</span><span class=\"o\">.</span><span class=\"n\">script</span><span class=\"o\">.</span><span class=\"n\">ir_module</span>\n",
              "<span class=\"k\">class</span> <span class=\"nc\">Module</span><span class=\"p\">:</span>\n",
              "    <span class=\"nd\">@tir</span><span class=\"o\">.</span><span class=\"n\">prim_func</span>\n",
              "    <span class=\"k\">def</span> <span class=\"nf\">add</span><span class=\"p\">(</span><span class=\"n\">A</span><span class=\"p\">:</span> <span class=\"n\">tir</span><span class=\"o\">.</span><span class=\"n\">Buffer</span><span class=\"p\">[(</span><span class=\"mi\">4</span><span class=\"p\">,</span> <span class=\"mi\">4</span><span class=\"p\">),</span> <span class=\"s2\">&quot;int64&quot;</span><span class=\"p\">],</span> <span class=\"n\">B</span><span class=\"p\">:</span> <span class=\"n\">tir</span><span class=\"o\">.</span><span class=\"n\">Buffer</span><span class=\"p\">[(</span><span class=\"mi\">4</span><span class=\"p\">,</span> <span class=\"mi\">4</span><span class=\"p\">),</span> <span class=\"s2\">&quot;int64&quot;</span><span class=\"p\">],</span> <span class=\"n\">C</span><span class=\"p\">:</span> <span class=\"n\">tir</span><span class=\"o\">.</span><span class=\"n\">Buffer</span><span class=\"p\">[(</span><span class=\"mi\">4</span><span class=\"p\">,</span> <span class=\"mi\">4</span><span class=\"p\">),</span> <span class=\"s2\">&quot;int64&quot;</span><span class=\"p\">])</span> <span class=\"o\">-&gt;</span> <span class=\"kc\">None</span><span class=\"p\">:</span>\n",
              "        <span class=\"c1\"># function attr dict</span>\n",
              "        <span class=\"n\">tir</span><span class=\"o\">.</span><span class=\"n\">func_attr</span><span class=\"p\">({</span><span class=\"s2\">&quot;global_symbol&quot;</span><span class=\"p\">:</span> <span class=\"s2\">&quot;add&quot;</span><span class=\"p\">})</span>\n",
              "        <span class=\"c1\"># body</span>\n",
              "        <span class=\"c1\"># with tir.block(&quot;root&quot;)</span>\n",
              "        <span class=\"k\">for</span> <span class=\"n\">i_0</span> <span class=\"ow\">in</span> <span class=\"n\">tir</span><span class=\"o\">.</span><span class=\"n\">parallel</span><span class=\"p\">(</span><span class=\"mi\">2</span><span class=\"p\">):</span>\n",
              "            <span class=\"k\">for</span> <span class=\"n\">i_1</span> <span class=\"ow\">in</span> <span class=\"n\">tir</span><span class=\"o\">.</span><span class=\"n\">unroll</span><span class=\"p\">(</span><span class=\"mi\">2</span><span class=\"p\">):</span>\n",
              "                <span class=\"k\">for</span> <span class=\"n\">j</span> <span class=\"ow\">in</span> <span class=\"n\">tir</span><span class=\"o\">.</span><span class=\"n\">vectorized</span><span class=\"p\">(</span><span class=\"mi\">4</span><span class=\"p\">):</span>\n",
              "                    <span class=\"k\">with</span> <span class=\"n\">tir</span><span class=\"o\">.</span><span class=\"n\">block</span><span class=\"p\">(</span><span class=\"s2\">&quot;C&quot;</span><span class=\"p\">):</span>\n",
              "                        <span class=\"n\">vi</span> <span class=\"o\">=</span> <span class=\"n\">tir</span><span class=\"o\">.</span><span class=\"n\">axis</span><span class=\"o\">.</span><span class=\"n\">spatial</span><span class=\"p\">(</span><span class=\"mi\">4</span><span class=\"p\">,</span> <span class=\"n\">i_0</span> <span class=\"o\">*</span> <span class=\"mi\">2</span> <span class=\"o\">+</span> <span class=\"n\">i_1</span><span class=\"p\">)</span>\n",
              "                        <span class=\"n\">vj</span> <span class=\"o\">=</span> <span class=\"n\">tir</span><span class=\"o\">.</span><span class=\"n\">axis</span><span class=\"o\">.</span><span class=\"n\">spatial</span><span class=\"p\">(</span><span class=\"mi\">4</span><span class=\"p\">,</span> <span class=\"n\">j</span><span class=\"p\">)</span>\n",
              "                        <span class=\"n\">tir</span><span class=\"o\">.</span><span class=\"n\">reads</span><span class=\"p\">(</span><span class=\"n\">A</span><span class=\"p\">[</span><span class=\"n\">vi</span><span class=\"p\">,</span> <span class=\"n\">vj</span><span class=\"p\">],</span> <span class=\"n\">B</span><span class=\"p\">[</span><span class=\"n\">vi</span><span class=\"p\">,</span> <span class=\"n\">vj</span><span class=\"p\">])</span>\n",
              "                        <span class=\"n\">tir</span><span class=\"o\">.</span><span class=\"n\">writes</span><span class=\"p\">(</span><span class=\"n\">C</span><span class=\"p\">[</span><span class=\"n\">vi</span><span class=\"p\">,</span> <span class=\"n\">vj</span><span class=\"p\">])</span>\n",
              "                        <span class=\"n\">C</span><span class=\"p\">[</span><span class=\"n\">vi</span><span class=\"p\">,</span> <span class=\"n\">vj</span><span class=\"p\">]</span> <span class=\"o\">=</span> <span class=\"n\">A</span><span class=\"p\">[</span><span class=\"n\">vi</span><span class=\"p\">,</span> <span class=\"n\">vj</span><span class=\"p\">]</span> <span class=\"o\">+</span> <span class=\"n\">B</span><span class=\"p\">[</span><span class=\"n\">vi</span><span class=\"p\">,</span> <span class=\"n\">vj</span><span class=\"p\">]</span>\n",
              "    \n",
              "</pre></div>\n",
              "\n"
            ]
          },
          "metadata": {},
          "execution_count": 10
        }
      ]
    },
    {
      "cell_type": "markdown",
      "source": [
        "Exercise 3: Transform a batch matmul program"
      ],
      "metadata": {
        "id": "kUltHXIlSuRI"
      }
    },
    {
      "cell_type": "code",
      "source": [
        "def lnumpy_mm_relu_v2(A: np.ndarray, B: np.ndarray, C: np.ndarray):\n",
        "    Y = np.empty((16, 128, 128), dtype=\"float32\")\n",
        "    for n in range(16):\n",
        "        for i in range(128):\n",
        "            for j in range(128):\n",
        "                for k in range(128):\n",
        "                    if k == 0:\n",
        "                        Y[i, j] = 0\n",
        "                    Y[n, i, j] = Y[n, i, j] + A[n, i, k] * B[n, k, j]\n",
        "    for n in range(16):\n",
        "        for i in range(128):\n",
        "            for j in range(128):\n",
        "                C[i, j] = max(Y[i, j], 0)"
      ],
      "metadata": {
        "id": "IDV92LhbSuCN"
      },
      "execution_count": 11,
      "outputs": []
    },
    {
      "cell_type": "code",
      "source": [
        "@tvm.script.ir_module\n",
        "class MyBmmRule:\n",
        "  @T.prim_func\n",
        "  def bmm_relu(A: T.Buffer[(16, 128, 128), \"float32\"],\n",
        "               B: T.Buffer[(16, 128, 128), \"float32\"],\n",
        "               C: T.Buffer[(16, 128, 128), \"float32\"]):\n",
        "    T.func_attr({\"global_symbol\": \"bmm_relu\", \"tir.noalias\": True})\n",
        "    Y = T.alloc_buffer([16, 128, 128], dtype=\"float32\")\n",
        "    for n, i, j, k in T.grid(16, 128, 128, 128):\n",
        "        with T.block(\"Y\"):\n",
        "            vn, vi, vj, vk = T.axis.remap(\"SSSR\", [n, i, j, k])\n",
        "            T.reads(A[vn, vi, vk], B[vn, vk, vj])\n",
        "            T.writes(Y[vn, vi, vj])\n",
        "            with T.init():\n",
        "                Y[vn, vi, vj] = T.float32(0)\n",
        "            Y[vn, vi, vj] = Y[vn, vi, vj] + A[vn, vi, vk] * B[vn, vk, vj]\n",
        "    for n, i, j in T.grid(16, 128, 128):\n",
        "        with T.block(\"C\"):\n",
        "            vn, vi, vj = T.axis.remap(\"SSS\", [n, i, j])\n",
        "            T.reads(Y[vn, vi, vj])\n",
        "            T.writes(C[vn, vi, vj])\n",
        "            C[vn, vi, vj] = T.max(Y[vn, vi, vj], T.float32(0))\n",
        "\n",
        "sch = tvm.tir.Schedule(MyBmmRule)\n",
        "IPython.display.HTML(code2html(sch.mod.script()))\n",
        "# Also please validate your result"
      ],
      "metadata": {
        "colab": {
          "base_uri": "https://localhost:8080/",
          "height": 434
        },
        "id": "08r2G1ihVHPV",
        "outputId": "9fd92585-f1e1-45d8-856b-840b063e6d4c"
      },
      "execution_count": 13,
      "outputs": [
        {
          "output_type": "execute_result",
          "data": {
            "text/plain": [
              "<IPython.core.display.HTML object>"
            ],
            "text/html": [
              "<style>.highlight .hll { background-color: #ffffcc }\n",
              ".highlight  { background: #f8f8f8; }\n",
              ".highlight .c { color: #408080; font-style: italic } /* Comment */\n",
              ".highlight .err { border: 1px solid #FF0000 } /* Error */\n",
              ".highlight .k { color: #008000; font-weight: bold } /* Keyword */\n",
              ".highlight .o { color: #666666 } /* Operator */\n",
              ".highlight .ch { color: #408080; font-style: italic } /* Comment.Hashbang */\n",
              ".highlight .cm { color: #408080; font-style: italic } /* Comment.Multiline */\n",
              ".highlight .cp { color: #BC7A00 } /* Comment.Preproc */\n",
              ".highlight .cpf { color: #408080; font-style: italic } /* Comment.PreprocFile */\n",
              ".highlight .c1 { color: #408080; font-style: italic } /* Comment.Single */\n",
              ".highlight .cs { color: #408080; font-style: italic } /* Comment.Special */\n",
              ".highlight .gd { color: #A00000 } /* Generic.Deleted */\n",
              ".highlight .ge { font-style: italic } /* Generic.Emph */\n",
              ".highlight .gr { color: #FF0000 } /* Generic.Error */\n",
              ".highlight .gh { color: #000080; font-weight: bold } /* Generic.Heading */\n",
              ".highlight .gi { color: #00A000 } /* Generic.Inserted */\n",
              ".highlight .go { color: #888888 } /* Generic.Output */\n",
              ".highlight .gp { color: #000080; font-weight: bold } /* Generic.Prompt */\n",
              ".highlight .gs { font-weight: bold } /* Generic.Strong */\n",
              ".highlight .gu { color: #800080; font-weight: bold } /* Generic.Subheading */\n",
              ".highlight .gt { color: #0044DD } /* Generic.Traceback */\n",
              ".highlight .kc { color: #008000; font-weight: bold } /* Keyword.Constant */\n",
              ".highlight .kd { color: #008000; font-weight: bold } /* Keyword.Declaration */\n",
              ".highlight .kn { color: #008000; font-weight: bold } /* Keyword.Namespace */\n",
              ".highlight .kp { color: #008000 } /* Keyword.Pseudo */\n",
              ".highlight .kr { color: #008000; font-weight: bold } /* Keyword.Reserved */\n",
              ".highlight .kt { color: #B00040 } /* Keyword.Type */\n",
              ".highlight .m { color: #666666 } /* Literal.Number */\n",
              ".highlight .s { color: #BA2121 } /* Literal.String */\n",
              ".highlight .na { color: #7D9029 } /* Name.Attribute */\n",
              ".highlight .nb { color: #008000 } /* Name.Builtin */\n",
              ".highlight .nc { color: #0000FF; font-weight: bold } /* Name.Class */\n",
              ".highlight .no { color: #880000 } /* Name.Constant */\n",
              ".highlight .nd { color: #AA22FF } /* Name.Decorator */\n",
              ".highlight .ni { color: #999999; font-weight: bold } /* Name.Entity */\n",
              ".highlight .ne { color: #D2413A; font-weight: bold } /* Name.Exception */\n",
              ".highlight .nf { color: #0000FF } /* Name.Function */\n",
              ".highlight .nl { color: #A0A000 } /* Name.Label */\n",
              ".highlight .nn { color: #0000FF; font-weight: bold } /* Name.Namespace */\n",
              ".highlight .nt { color: #008000; font-weight: bold } /* Name.Tag */\n",
              ".highlight .nv { color: #19177C } /* Name.Variable */\n",
              ".highlight .ow { color: #AA22FF; font-weight: bold } /* Operator.Word */\n",
              ".highlight .w { color: #bbbbbb } /* Text.Whitespace */\n",
              ".highlight .mb { color: #666666 } /* Literal.Number.Bin */\n",
              ".highlight .mf { color: #666666 } /* Literal.Number.Float */\n",
              ".highlight .mh { color: #666666 } /* Literal.Number.Hex */\n",
              ".highlight .mi { color: #666666 } /* Literal.Number.Integer */\n",
              ".highlight .mo { color: #666666 } /* Literal.Number.Oct */\n",
              ".highlight .sa { color: #BA2121 } /* Literal.String.Affix */\n",
              ".highlight .sb { color: #BA2121 } /* Literal.String.Backtick */\n",
              ".highlight .sc { color: #BA2121 } /* Literal.String.Char */\n",
              ".highlight .dl { color: #BA2121 } /* Literal.String.Delimiter */\n",
              ".highlight .sd { color: #BA2121; font-style: italic } /* Literal.String.Doc */\n",
              ".highlight .s2 { color: #BA2121 } /* Literal.String.Double */\n",
              ".highlight .se { color: #BB6622; font-weight: bold } /* Literal.String.Escape */\n",
              ".highlight .sh { color: #BA2121 } /* Literal.String.Heredoc */\n",
              ".highlight .si { color: #BB6688; font-weight: bold } /* Literal.String.Interpol */\n",
              ".highlight .sx { color: #008000 } /* Literal.String.Other */\n",
              ".highlight .sr { color: #BB6688 } /* Literal.String.Regex */\n",
              ".highlight .s1 { color: #BA2121 } /* Literal.String.Single */\n",
              ".highlight .ss { color: #19177C } /* Literal.String.Symbol */\n",
              ".highlight .bp { color: #008000 } /* Name.Builtin.Pseudo */\n",
              ".highlight .fm { color: #0000FF } /* Name.Function.Magic */\n",
              ".highlight .vc { color: #19177C } /* Name.Variable.Class */\n",
              ".highlight .vg { color: #19177C } /* Name.Variable.Global */\n",
              ".highlight .vi { color: #19177C } /* Name.Variable.Instance */\n",
              ".highlight .vm { color: #19177C } /* Name.Variable.Magic */\n",
              ".highlight .il { color: #666666 } /* Literal.Number.Integer.Long */</style><div class=\"highlight\"><pre><span></span><span class=\"nd\">@tvm</span><span class=\"o\">.</span><span class=\"n\">script</span><span class=\"o\">.</span><span class=\"n\">ir_module</span>\n",
              "<span class=\"k\">class</span> <span class=\"nc\">Module</span><span class=\"p\">:</span>\n",
              "    <span class=\"nd\">@tir</span><span class=\"o\">.</span><span class=\"n\">prim_func</span>\n",
              "    <span class=\"k\">def</span> <span class=\"nf\">bmm_relu</span><span class=\"p\">(</span><span class=\"n\">A</span><span class=\"p\">:</span> <span class=\"n\">tir</span><span class=\"o\">.</span><span class=\"n\">Buffer</span><span class=\"p\">[(</span><span class=\"mi\">16</span><span class=\"p\">,</span> <span class=\"mi\">128</span><span class=\"p\">,</span> <span class=\"mi\">128</span><span class=\"p\">),</span> <span class=\"s2\">&quot;float32&quot;</span><span class=\"p\">],</span> <span class=\"n\">B</span><span class=\"p\">:</span> <span class=\"n\">tir</span><span class=\"o\">.</span><span class=\"n\">Buffer</span><span class=\"p\">[(</span><span class=\"mi\">16</span><span class=\"p\">,</span> <span class=\"mi\">128</span><span class=\"p\">,</span> <span class=\"mi\">128</span><span class=\"p\">),</span> <span class=\"s2\">&quot;float32&quot;</span><span class=\"p\">],</span> <span class=\"n\">C</span><span class=\"p\">:</span> <span class=\"n\">tir</span><span class=\"o\">.</span><span class=\"n\">Buffer</span><span class=\"p\">[(</span><span class=\"mi\">16</span><span class=\"p\">,</span> <span class=\"mi\">128</span><span class=\"p\">,</span> <span class=\"mi\">128</span><span class=\"p\">),</span> <span class=\"s2\">&quot;float32&quot;</span><span class=\"p\">])</span> <span class=\"o\">-&gt;</span> <span class=\"kc\">None</span><span class=\"p\">:</span>\n",
              "        <span class=\"c1\"># function attr dict</span>\n",
              "        <span class=\"n\">tir</span><span class=\"o\">.</span><span class=\"n\">func_attr</span><span class=\"p\">({</span><span class=\"s2\">&quot;global_symbol&quot;</span><span class=\"p\">:</span> <span class=\"s2\">&quot;bmm_relu&quot;</span><span class=\"p\">,</span> <span class=\"s2\">&quot;tir.noalias&quot;</span><span class=\"p\">:</span> <span class=\"kc\">True</span><span class=\"p\">})</span>\n",
              "        <span class=\"c1\"># body</span>\n",
              "        <span class=\"c1\"># with tir.block(&quot;root&quot;)</span>\n",
              "        <span class=\"n\">Y</span> <span class=\"o\">=</span> <span class=\"n\">tir</span><span class=\"o\">.</span><span class=\"n\">alloc_buffer</span><span class=\"p\">([</span><span class=\"mi\">16</span><span class=\"p\">,</span> <span class=\"mi\">128</span><span class=\"p\">,</span> <span class=\"mi\">128</span><span class=\"p\">],</span> <span class=\"n\">dtype</span><span class=\"o\">=</span><span class=\"s2\">&quot;float32&quot;</span><span class=\"p\">)</span>\n",
              "        <span class=\"k\">for</span> <span class=\"n\">n</span><span class=\"p\">,</span> <span class=\"n\">i</span><span class=\"p\">,</span> <span class=\"n\">j</span><span class=\"p\">,</span> <span class=\"n\">k</span> <span class=\"ow\">in</span> <span class=\"n\">tir</span><span class=\"o\">.</span><span class=\"n\">grid</span><span class=\"p\">(</span><span class=\"mi\">16</span><span class=\"p\">,</span> <span class=\"mi\">128</span><span class=\"p\">,</span> <span class=\"mi\">128</span><span class=\"p\">,</span> <span class=\"mi\">128</span><span class=\"p\">):</span>\n",
              "            <span class=\"k\">with</span> <span class=\"n\">tir</span><span class=\"o\">.</span><span class=\"n\">block</span><span class=\"p\">(</span><span class=\"s2\">&quot;Y&quot;</span><span class=\"p\">):</span>\n",
              "                <span class=\"n\">vn</span><span class=\"p\">,</span> <span class=\"n\">vi</span><span class=\"p\">,</span> <span class=\"n\">vj</span><span class=\"p\">,</span> <span class=\"n\">vk</span> <span class=\"o\">=</span> <span class=\"n\">tir</span><span class=\"o\">.</span><span class=\"n\">axis</span><span class=\"o\">.</span><span class=\"n\">remap</span><span class=\"p\">(</span><span class=\"s2\">&quot;SSSR&quot;</span><span class=\"p\">,</span> <span class=\"p\">[</span><span class=\"n\">n</span><span class=\"p\">,</span> <span class=\"n\">i</span><span class=\"p\">,</span> <span class=\"n\">j</span><span class=\"p\">,</span> <span class=\"n\">k</span><span class=\"p\">])</span>\n",
              "                <span class=\"n\">tir</span><span class=\"o\">.</span><span class=\"n\">reads</span><span class=\"p\">(</span><span class=\"n\">A</span><span class=\"p\">[</span><span class=\"n\">vn</span><span class=\"p\">,</span> <span class=\"n\">vi</span><span class=\"p\">,</span> <span class=\"n\">vk</span><span class=\"p\">],</span> <span class=\"n\">B</span><span class=\"p\">[</span><span class=\"n\">vn</span><span class=\"p\">,</span> <span class=\"n\">vk</span><span class=\"p\">,</span> <span class=\"n\">vj</span><span class=\"p\">])</span>\n",
              "                <span class=\"n\">tir</span><span class=\"o\">.</span><span class=\"n\">writes</span><span class=\"p\">(</span><span class=\"n\">Y</span><span class=\"p\">[</span><span class=\"n\">vn</span><span class=\"p\">,</span> <span class=\"n\">vi</span><span class=\"p\">,</span> <span class=\"n\">vj</span><span class=\"p\">])</span>\n",
              "                <span class=\"k\">with</span> <span class=\"n\">tir</span><span class=\"o\">.</span><span class=\"n\">init</span><span class=\"p\">():</span>\n",
              "                    <span class=\"n\">Y</span><span class=\"p\">[</span><span class=\"n\">vn</span><span class=\"p\">,</span> <span class=\"n\">vi</span><span class=\"p\">,</span> <span class=\"n\">vj</span><span class=\"p\">]</span> <span class=\"o\">=</span> <span class=\"n\">tir</span><span class=\"o\">.</span><span class=\"n\">float32</span><span class=\"p\">(</span><span class=\"mi\">0</span><span class=\"p\">)</span>\n",
              "                <span class=\"n\">Y</span><span class=\"p\">[</span><span class=\"n\">vn</span><span class=\"p\">,</span> <span class=\"n\">vi</span><span class=\"p\">,</span> <span class=\"n\">vj</span><span class=\"p\">]</span> <span class=\"o\">=</span> <span class=\"n\">Y</span><span class=\"p\">[</span><span class=\"n\">vn</span><span class=\"p\">,</span> <span class=\"n\">vi</span><span class=\"p\">,</span> <span class=\"n\">vj</span><span class=\"p\">]</span> <span class=\"o\">+</span> <span class=\"n\">A</span><span class=\"p\">[</span><span class=\"n\">vn</span><span class=\"p\">,</span> <span class=\"n\">vi</span><span class=\"p\">,</span> <span class=\"n\">vk</span><span class=\"p\">]</span> <span class=\"o\">*</span> <span class=\"n\">B</span><span class=\"p\">[</span><span class=\"n\">vn</span><span class=\"p\">,</span> <span class=\"n\">vk</span><span class=\"p\">,</span> <span class=\"n\">vj</span><span class=\"p\">]</span>\n",
              "        <span class=\"k\">for</span> <span class=\"n\">n</span><span class=\"p\">,</span> <span class=\"n\">i</span><span class=\"p\">,</span> <span class=\"n\">j</span> <span class=\"ow\">in</span> <span class=\"n\">tir</span><span class=\"o\">.</span><span class=\"n\">grid</span><span class=\"p\">(</span><span class=\"mi\">16</span><span class=\"p\">,</span> <span class=\"mi\">128</span><span class=\"p\">,</span> <span class=\"mi\">128</span><span class=\"p\">):</span>\n",
              "            <span class=\"k\">with</span> <span class=\"n\">tir</span><span class=\"o\">.</span><span class=\"n\">block</span><span class=\"p\">(</span><span class=\"s2\">&quot;C&quot;</span><span class=\"p\">):</span>\n",
              "                <span class=\"n\">vn</span><span class=\"p\">,</span> <span class=\"n\">vi</span><span class=\"p\">,</span> <span class=\"n\">vj</span> <span class=\"o\">=</span> <span class=\"n\">tir</span><span class=\"o\">.</span><span class=\"n\">axis</span><span class=\"o\">.</span><span class=\"n\">remap</span><span class=\"p\">(</span><span class=\"s2\">&quot;SSS&quot;</span><span class=\"p\">,</span> <span class=\"p\">[</span><span class=\"n\">n</span><span class=\"p\">,</span> <span class=\"n\">i</span><span class=\"p\">,</span> <span class=\"n\">j</span><span class=\"p\">])</span>\n",
              "                <span class=\"n\">tir</span><span class=\"o\">.</span><span class=\"n\">reads</span><span class=\"p\">(</span><span class=\"n\">Y</span><span class=\"p\">[</span><span class=\"n\">vn</span><span class=\"p\">,</span> <span class=\"n\">vi</span><span class=\"p\">,</span> <span class=\"n\">vj</span><span class=\"p\">])</span>\n",
              "                <span class=\"n\">tir</span><span class=\"o\">.</span><span class=\"n\">writes</span><span class=\"p\">(</span><span class=\"n\">C</span><span class=\"p\">[</span><span class=\"n\">vn</span><span class=\"p\">,</span> <span class=\"n\">vi</span><span class=\"p\">,</span> <span class=\"n\">vj</span><span class=\"p\">])</span>\n",
              "                <span class=\"n\">C</span><span class=\"p\">[</span><span class=\"n\">vn</span><span class=\"p\">,</span> <span class=\"n\">vi</span><span class=\"p\">,</span> <span class=\"n\">vj</span><span class=\"p\">]</span> <span class=\"o\">=</span> <span class=\"n\">tir</span><span class=\"o\">.</span><span class=\"n\">max</span><span class=\"p\">(</span><span class=\"n\">Y</span><span class=\"p\">[</span><span class=\"n\">vn</span><span class=\"p\">,</span> <span class=\"n\">vi</span><span class=\"p\">,</span> <span class=\"n\">vj</span><span class=\"p\">],</span> <span class=\"n\">tir</span><span class=\"o\">.</span><span class=\"n\">float32</span><span class=\"p\">(</span><span class=\"mi\">0</span><span class=\"p\">))</span>\n",
              "    \n",
              "</pre></div>\n",
              "\n"
            ]
          },
          "metadata": {},
          "execution_count": 13
        }
      ]
    },
    {
      "cell_type": "code",
      "source": [
        "@tvm.script.ir_module\n",
        "class TargetModule:\n",
        "    @T.prim_func\n",
        "    def bmm_relu(A: T.Buffer[(16, 128, 128), \"float32\"], B: T.Buffer[(16, 128, 128), \"float32\"], C: T.Buffer[(16, 128, 128), \"float32\"]) -> None:\n",
        "        T.func_attr({\"global_symbol\": \"bmm_relu\", \"tir.noalias\": True})\n",
        "        Y = T.alloc_buffer([16, 128, 128], dtype=\"float32\")\n",
        "        for i0 in T.parallel(16):\n",
        "            for i1, i2_0 in T.grid(128, 16):\n",
        "                for ax0_init in T.vectorized(8):\n",
        "                    with T.block(\"Y_init\"):\n",
        "                        n, i = T.axis.remap(\"SS\", [i0, i1])\n",
        "                        j = T.axis.spatial(128, i2_0 * 8 + ax0_init)\n",
        "                        Y[n, i, j] = T.float32(0)\n",
        "                for ax1_0 in T.serial(32):\n",
        "                    for ax1_1 in T.unroll(4):\n",
        "                        for ax0 in T.serial(8):\n",
        "                            with T.block(\"Y_update\"):\n",
        "                                n, i = T.axis.remap(\"SS\", [i0, i1])\n",
        "                                j = T.axis.spatial(128, i2_0 * 8 + ax0)\n",
        "                                k = T.axis.reduce(128, ax1_0 * 4 + ax1_1)\n",
        "                                Y[n, i, j] = Y[n, i, j] + A[n, i, k] * B[n, k, j]\n",
        "                for i2_1 in T.vectorized(8):\n",
        "                    with T.block(\"C\"):\n",
        "                        n, i = T.axis.remap(\"SS\", [i0, i1])\n",
        "                        j = T.axis.spatial(128, i2_0 * 8 + i2_1)\n",
        "                        C[n, i, j] = T.max(Y[n, i, j], T.float32(0))"
      ],
      "metadata": {
        "id": "5krHY04nYDSc"
      },
      "execution_count": 14,
      "outputs": []
    },
    {
      "cell_type": "code",
      "source": [
        "sch = tvm.tir.Schedule(MyBmmRule)\n",
        "# TODO: transformations\n",
        "# Hints: you can use\n",
        "# `IPython.display.Code(sch.mod.script(), language=\"python\")`\n",
        "# or `print(sch.mod.script())`\n",
        "# to show the current program at any time during the transformation.\n",
        "\n",
        "# Step 1. Get blocks\n",
        "Y = sch.get_block(\"Y\", func_name=\"bmm_relu\")\n",
        "\n",
        "# Step 2. Get loops\n",
        "b, i, j, k = sch.get_loops(Y)\n",
        "sch.parallel(b)\n",
        "\n",
        "# Step 3. Organize the loops\n",
        "j0, j1 = sch.split(j, factors=[None, 8])\n",
        "sch.reorder(j0, k, j1)\n",
        "block_C = sch.get_block(\"C\", func_name=\"bmm_relu\")\n",
        "sch.reverse_compute_at(block_C, j0)\n",
        "\n",
        "# Step 4. decompose reduction\n",
        "Y_init = sch.decompose_reduction(Y, k)\n",
        "_, _, _, j1_init = sch.get_loops(sch.get_block(\"Y_init\", func_name=\"bmm_relu\"))\n",
        "k0, k1 = sch.split(k, factors=[None, 4])\n",
        "_, _, _, ax0 = sch.get_loops(block_C)\n",
        "\n",
        "# Step 5. vectorize / parallel / unroll\n",
        "sch.vectorize(j1_init)\n",
        "sch.vectorize(ax0)\n",
        "sch.unroll(k1)\n",
        "\n",
        "IPython.display.HTML(code2html(sch.mod.script()))"
      ],
      "metadata": {
        "colab": {
          "base_uri": "https://localhost:8080/",
          "height": 642
        },
        "id": "UMHyd1qpXy4U",
        "outputId": "6acb9779-a377-4a7d-fadf-545535c2ae7d"
      },
      "execution_count": 34,
      "outputs": [
        {
          "output_type": "execute_result",
          "data": {
            "text/plain": [
              "<IPython.core.display.HTML object>"
            ],
            "text/html": [
              "<style>.highlight .hll { background-color: #ffffcc }\n",
              ".highlight  { background: #f8f8f8; }\n",
              ".highlight .c { color: #408080; font-style: italic } /* Comment */\n",
              ".highlight .err { border: 1px solid #FF0000 } /* Error */\n",
              ".highlight .k { color: #008000; font-weight: bold } /* Keyword */\n",
              ".highlight .o { color: #666666 } /* Operator */\n",
              ".highlight .ch { color: #408080; font-style: italic } /* Comment.Hashbang */\n",
              ".highlight .cm { color: #408080; font-style: italic } /* Comment.Multiline */\n",
              ".highlight .cp { color: #BC7A00 } /* Comment.Preproc */\n",
              ".highlight .cpf { color: #408080; font-style: italic } /* Comment.PreprocFile */\n",
              ".highlight .c1 { color: #408080; font-style: italic } /* Comment.Single */\n",
              ".highlight .cs { color: #408080; font-style: italic } /* Comment.Special */\n",
              ".highlight .gd { color: #A00000 } /* Generic.Deleted */\n",
              ".highlight .ge { font-style: italic } /* Generic.Emph */\n",
              ".highlight .gr { color: #FF0000 } /* Generic.Error */\n",
              ".highlight .gh { color: #000080; font-weight: bold } /* Generic.Heading */\n",
              ".highlight .gi { color: #00A000 } /* Generic.Inserted */\n",
              ".highlight .go { color: #888888 } /* Generic.Output */\n",
              ".highlight .gp { color: #000080; font-weight: bold } /* Generic.Prompt */\n",
              ".highlight .gs { font-weight: bold } /* Generic.Strong */\n",
              ".highlight .gu { color: #800080; font-weight: bold } /* Generic.Subheading */\n",
              ".highlight .gt { color: #0044DD } /* Generic.Traceback */\n",
              ".highlight .kc { color: #008000; font-weight: bold } /* Keyword.Constant */\n",
              ".highlight .kd { color: #008000; font-weight: bold } /* Keyword.Declaration */\n",
              ".highlight .kn { color: #008000; font-weight: bold } /* Keyword.Namespace */\n",
              ".highlight .kp { color: #008000 } /* Keyword.Pseudo */\n",
              ".highlight .kr { color: #008000; font-weight: bold } /* Keyword.Reserved */\n",
              ".highlight .kt { color: #B00040 } /* Keyword.Type */\n",
              ".highlight .m { color: #666666 } /* Literal.Number */\n",
              ".highlight .s { color: #BA2121 } /* Literal.String */\n",
              ".highlight .na { color: #7D9029 } /* Name.Attribute */\n",
              ".highlight .nb { color: #008000 } /* Name.Builtin */\n",
              ".highlight .nc { color: #0000FF; font-weight: bold } /* Name.Class */\n",
              ".highlight .no { color: #880000 } /* Name.Constant */\n",
              ".highlight .nd { color: #AA22FF } /* Name.Decorator */\n",
              ".highlight .ni { color: #999999; font-weight: bold } /* Name.Entity */\n",
              ".highlight .ne { color: #D2413A; font-weight: bold } /* Name.Exception */\n",
              ".highlight .nf { color: #0000FF } /* Name.Function */\n",
              ".highlight .nl { color: #A0A000 } /* Name.Label */\n",
              ".highlight .nn { color: #0000FF; font-weight: bold } /* Name.Namespace */\n",
              ".highlight .nt { color: #008000; font-weight: bold } /* Name.Tag */\n",
              ".highlight .nv { color: #19177C } /* Name.Variable */\n",
              ".highlight .ow { color: #AA22FF; font-weight: bold } /* Operator.Word */\n",
              ".highlight .w { color: #bbbbbb } /* Text.Whitespace */\n",
              ".highlight .mb { color: #666666 } /* Literal.Number.Bin */\n",
              ".highlight .mf { color: #666666 } /* Literal.Number.Float */\n",
              ".highlight .mh { color: #666666 } /* Literal.Number.Hex */\n",
              ".highlight .mi { color: #666666 } /* Literal.Number.Integer */\n",
              ".highlight .mo { color: #666666 } /* Literal.Number.Oct */\n",
              ".highlight .sa { color: #BA2121 } /* Literal.String.Affix */\n",
              ".highlight .sb { color: #BA2121 } /* Literal.String.Backtick */\n",
              ".highlight .sc { color: #BA2121 } /* Literal.String.Char */\n",
              ".highlight .dl { color: #BA2121 } /* Literal.String.Delimiter */\n",
              ".highlight .sd { color: #BA2121; font-style: italic } /* Literal.String.Doc */\n",
              ".highlight .s2 { color: #BA2121 } /* Literal.String.Double */\n",
              ".highlight .se { color: #BB6622; font-weight: bold } /* Literal.String.Escape */\n",
              ".highlight .sh { color: #BA2121 } /* Literal.String.Heredoc */\n",
              ".highlight .si { color: #BB6688; font-weight: bold } /* Literal.String.Interpol */\n",
              ".highlight .sx { color: #008000 } /* Literal.String.Other */\n",
              ".highlight .sr { color: #BB6688 } /* Literal.String.Regex */\n",
              ".highlight .s1 { color: #BA2121 } /* Literal.String.Single */\n",
              ".highlight .ss { color: #19177C } /* Literal.String.Symbol */\n",
              ".highlight .bp { color: #008000 } /* Name.Builtin.Pseudo */\n",
              ".highlight .fm { color: #0000FF } /* Name.Function.Magic */\n",
              ".highlight .vc { color: #19177C } /* Name.Variable.Class */\n",
              ".highlight .vg { color: #19177C } /* Name.Variable.Global */\n",
              ".highlight .vi { color: #19177C } /* Name.Variable.Instance */\n",
              ".highlight .vm { color: #19177C } /* Name.Variable.Magic */\n",
              ".highlight .il { color: #666666 } /* Literal.Number.Integer.Long */</style><div class=\"highlight\"><pre><span></span><span class=\"nd\">@tvm</span><span class=\"o\">.</span><span class=\"n\">script</span><span class=\"o\">.</span><span class=\"n\">ir_module</span>\n",
              "<span class=\"k\">class</span> <span class=\"nc\">Module</span><span class=\"p\">:</span>\n",
              "    <span class=\"nd\">@tir</span><span class=\"o\">.</span><span class=\"n\">prim_func</span>\n",
              "    <span class=\"k\">def</span> <span class=\"nf\">bmm_relu</span><span class=\"p\">(</span><span class=\"n\">A</span><span class=\"p\">:</span> <span class=\"n\">tir</span><span class=\"o\">.</span><span class=\"n\">Buffer</span><span class=\"p\">[(</span><span class=\"mi\">16</span><span class=\"p\">,</span> <span class=\"mi\">128</span><span class=\"p\">,</span> <span class=\"mi\">128</span><span class=\"p\">),</span> <span class=\"s2\">&quot;float32&quot;</span><span class=\"p\">],</span> <span class=\"n\">B</span><span class=\"p\">:</span> <span class=\"n\">tir</span><span class=\"o\">.</span><span class=\"n\">Buffer</span><span class=\"p\">[(</span><span class=\"mi\">16</span><span class=\"p\">,</span> <span class=\"mi\">128</span><span class=\"p\">,</span> <span class=\"mi\">128</span><span class=\"p\">),</span> <span class=\"s2\">&quot;float32&quot;</span><span class=\"p\">],</span> <span class=\"n\">C</span><span class=\"p\">:</span> <span class=\"n\">tir</span><span class=\"o\">.</span><span class=\"n\">Buffer</span><span class=\"p\">[(</span><span class=\"mi\">16</span><span class=\"p\">,</span> <span class=\"mi\">128</span><span class=\"p\">,</span> <span class=\"mi\">128</span><span class=\"p\">),</span> <span class=\"s2\">&quot;float32&quot;</span><span class=\"p\">])</span> <span class=\"o\">-&gt;</span> <span class=\"kc\">None</span><span class=\"p\">:</span>\n",
              "        <span class=\"c1\"># function attr dict</span>\n",
              "        <span class=\"n\">tir</span><span class=\"o\">.</span><span class=\"n\">func_attr</span><span class=\"p\">({</span><span class=\"s2\">&quot;global_symbol&quot;</span><span class=\"p\">:</span> <span class=\"s2\">&quot;bmm_relu&quot;</span><span class=\"p\">,</span> <span class=\"s2\">&quot;tir.noalias&quot;</span><span class=\"p\">:</span> <span class=\"kc\">True</span><span class=\"p\">})</span>\n",
              "        <span class=\"c1\"># body</span>\n",
              "        <span class=\"c1\"># with tir.block(&quot;root&quot;)</span>\n",
              "        <span class=\"n\">Y</span> <span class=\"o\">=</span> <span class=\"n\">tir</span><span class=\"o\">.</span><span class=\"n\">alloc_buffer</span><span class=\"p\">([</span><span class=\"mi\">16</span><span class=\"p\">,</span> <span class=\"mi\">128</span><span class=\"p\">,</span> <span class=\"mi\">128</span><span class=\"p\">],</span> <span class=\"n\">dtype</span><span class=\"o\">=</span><span class=\"s2\">&quot;float32&quot;</span><span class=\"p\">)</span>\n",
              "        <span class=\"k\">for</span> <span class=\"n\">n</span> <span class=\"ow\">in</span> <span class=\"n\">tir</span><span class=\"o\">.</span><span class=\"n\">parallel</span><span class=\"p\">(</span><span class=\"mi\">16</span><span class=\"p\">):</span>\n",
              "            <span class=\"k\">for</span> <span class=\"n\">i</span><span class=\"p\">,</span> <span class=\"n\">j_0</span> <span class=\"ow\">in</span> <span class=\"n\">tir</span><span class=\"o\">.</span><span class=\"n\">grid</span><span class=\"p\">(</span><span class=\"mi\">128</span><span class=\"p\">,</span> <span class=\"mi\">16</span><span class=\"p\">):</span>\n",
              "                <span class=\"k\">for</span> <span class=\"n\">j_1_init</span> <span class=\"ow\">in</span> <span class=\"n\">tir</span><span class=\"o\">.</span><span class=\"n\">vectorized</span><span class=\"p\">(</span><span class=\"mi\">8</span><span class=\"p\">):</span>\n",
              "                    <span class=\"k\">with</span> <span class=\"n\">tir</span><span class=\"o\">.</span><span class=\"n\">block</span><span class=\"p\">(</span><span class=\"s2\">&quot;Y_init&quot;</span><span class=\"p\">):</span>\n",
              "                        <span class=\"n\">vn</span><span class=\"p\">,</span> <span class=\"n\">vi</span> <span class=\"o\">=</span> <span class=\"n\">tir</span><span class=\"o\">.</span><span class=\"n\">axis</span><span class=\"o\">.</span><span class=\"n\">remap</span><span class=\"p\">(</span><span class=\"s2\">&quot;SS&quot;</span><span class=\"p\">,</span> <span class=\"p\">[</span><span class=\"n\">n</span><span class=\"p\">,</span> <span class=\"n\">i</span><span class=\"p\">])</span>\n",
              "                        <span class=\"n\">vj</span> <span class=\"o\">=</span> <span class=\"n\">tir</span><span class=\"o\">.</span><span class=\"n\">axis</span><span class=\"o\">.</span><span class=\"n\">spatial</span><span class=\"p\">(</span><span class=\"mi\">128</span><span class=\"p\">,</span> <span class=\"n\">j_0</span> <span class=\"o\">*</span> <span class=\"mi\">8</span> <span class=\"o\">+</span> <span class=\"n\">j_1_init</span><span class=\"p\">)</span>\n",
              "                        <span class=\"n\">tir</span><span class=\"o\">.</span><span class=\"n\">reads</span><span class=\"p\">()</span>\n",
              "                        <span class=\"n\">tir</span><span class=\"o\">.</span><span class=\"n\">writes</span><span class=\"p\">(</span><span class=\"n\">Y</span><span class=\"p\">[</span><span class=\"n\">vn</span><span class=\"p\">,</span> <span class=\"n\">vi</span><span class=\"p\">,</span> <span class=\"n\">vj</span><span class=\"p\">])</span>\n",
              "                        <span class=\"n\">Y</span><span class=\"p\">[</span><span class=\"n\">vn</span><span class=\"p\">,</span> <span class=\"n\">vi</span><span class=\"p\">,</span> <span class=\"n\">vj</span><span class=\"p\">]</span> <span class=\"o\">=</span> <span class=\"n\">tir</span><span class=\"o\">.</span><span class=\"n\">float32</span><span class=\"p\">(</span><span class=\"mi\">0</span><span class=\"p\">)</span>\n",
              "                <span class=\"k\">for</span> <span class=\"n\">k_0</span> <span class=\"ow\">in</span> <span class=\"n\">tir</span><span class=\"o\">.</span><span class=\"n\">serial</span><span class=\"p\">(</span><span class=\"mi\">32</span><span class=\"p\">):</span>\n",
              "                    <span class=\"k\">for</span> <span class=\"n\">k_1</span> <span class=\"ow\">in</span> <span class=\"n\">tir</span><span class=\"o\">.</span><span class=\"n\">unroll</span><span class=\"p\">(</span><span class=\"mi\">4</span><span class=\"p\">):</span>\n",
              "                        <span class=\"k\">for</span> <span class=\"n\">j_1</span> <span class=\"ow\">in</span> <span class=\"n\">tir</span><span class=\"o\">.</span><span class=\"n\">serial</span><span class=\"p\">(</span><span class=\"mi\">8</span><span class=\"p\">):</span>\n",
              "                            <span class=\"k\">with</span> <span class=\"n\">tir</span><span class=\"o\">.</span><span class=\"n\">block</span><span class=\"p\">(</span><span class=\"s2\">&quot;Y_update&quot;</span><span class=\"p\">):</span>\n",
              "                                <span class=\"n\">vn</span><span class=\"p\">,</span> <span class=\"n\">vi</span> <span class=\"o\">=</span> <span class=\"n\">tir</span><span class=\"o\">.</span><span class=\"n\">axis</span><span class=\"o\">.</span><span class=\"n\">remap</span><span class=\"p\">(</span><span class=\"s2\">&quot;SS&quot;</span><span class=\"p\">,</span> <span class=\"p\">[</span><span class=\"n\">n</span><span class=\"p\">,</span> <span class=\"n\">i</span><span class=\"p\">])</span>\n",
              "                                <span class=\"n\">vj</span> <span class=\"o\">=</span> <span class=\"n\">tir</span><span class=\"o\">.</span><span class=\"n\">axis</span><span class=\"o\">.</span><span class=\"n\">spatial</span><span class=\"p\">(</span><span class=\"mi\">128</span><span class=\"p\">,</span> <span class=\"n\">j_0</span> <span class=\"o\">*</span> <span class=\"mi\">8</span> <span class=\"o\">+</span> <span class=\"n\">j_1</span><span class=\"p\">)</span>\n",
              "                                <span class=\"n\">vk</span> <span class=\"o\">=</span> <span class=\"n\">tir</span><span class=\"o\">.</span><span class=\"n\">axis</span><span class=\"o\">.</span><span class=\"n\">reduce</span><span class=\"p\">(</span><span class=\"mi\">128</span><span class=\"p\">,</span> <span class=\"n\">k_0</span> <span class=\"o\">*</span> <span class=\"mi\">4</span> <span class=\"o\">+</span> <span class=\"n\">k_1</span><span class=\"p\">)</span>\n",
              "                                <span class=\"n\">tir</span><span class=\"o\">.</span><span class=\"n\">reads</span><span class=\"p\">(</span><span class=\"n\">Y</span><span class=\"p\">[</span><span class=\"n\">vn</span><span class=\"p\">,</span> <span class=\"n\">vi</span><span class=\"p\">,</span> <span class=\"n\">vj</span><span class=\"p\">],</span> <span class=\"n\">A</span><span class=\"p\">[</span><span class=\"n\">vn</span><span class=\"p\">,</span> <span class=\"n\">vi</span><span class=\"p\">,</span> <span class=\"n\">vk</span><span class=\"p\">],</span> <span class=\"n\">B</span><span class=\"p\">[</span><span class=\"n\">vn</span><span class=\"p\">,</span> <span class=\"n\">vk</span><span class=\"p\">,</span> <span class=\"n\">vj</span><span class=\"p\">])</span>\n",
              "                                <span class=\"n\">tir</span><span class=\"o\">.</span><span class=\"n\">writes</span><span class=\"p\">(</span><span class=\"n\">Y</span><span class=\"p\">[</span><span class=\"n\">vn</span><span class=\"p\">,</span> <span class=\"n\">vi</span><span class=\"p\">,</span> <span class=\"n\">vj</span><span class=\"p\">])</span>\n",
              "                                <span class=\"n\">Y</span><span class=\"p\">[</span><span class=\"n\">vn</span><span class=\"p\">,</span> <span class=\"n\">vi</span><span class=\"p\">,</span> <span class=\"n\">vj</span><span class=\"p\">]</span> <span class=\"o\">=</span> <span class=\"n\">Y</span><span class=\"p\">[</span><span class=\"n\">vn</span><span class=\"p\">,</span> <span class=\"n\">vi</span><span class=\"p\">,</span> <span class=\"n\">vj</span><span class=\"p\">]</span> <span class=\"o\">+</span> <span class=\"n\">A</span><span class=\"p\">[</span><span class=\"n\">vn</span><span class=\"p\">,</span> <span class=\"n\">vi</span><span class=\"p\">,</span> <span class=\"n\">vk</span><span class=\"p\">]</span> <span class=\"o\">*</span> <span class=\"n\">B</span><span class=\"p\">[</span><span class=\"n\">vn</span><span class=\"p\">,</span> <span class=\"n\">vk</span><span class=\"p\">,</span> <span class=\"n\">vj</span><span class=\"p\">]</span>\n",
              "                <span class=\"k\">for</span> <span class=\"n\">ax0</span> <span class=\"ow\">in</span> <span class=\"n\">tir</span><span class=\"o\">.</span><span class=\"n\">vectorized</span><span class=\"p\">(</span><span class=\"mi\">8</span><span class=\"p\">):</span>\n",
              "                    <span class=\"k\">with</span> <span class=\"n\">tir</span><span class=\"o\">.</span><span class=\"n\">block</span><span class=\"p\">(</span><span class=\"s2\">&quot;C&quot;</span><span class=\"p\">):</span>\n",
              "                        <span class=\"n\">vn</span><span class=\"p\">,</span> <span class=\"n\">vi</span> <span class=\"o\">=</span> <span class=\"n\">tir</span><span class=\"o\">.</span><span class=\"n\">axis</span><span class=\"o\">.</span><span class=\"n\">remap</span><span class=\"p\">(</span><span class=\"s2\">&quot;SS&quot;</span><span class=\"p\">,</span> <span class=\"p\">[</span><span class=\"n\">n</span><span class=\"p\">,</span> <span class=\"n\">i</span><span class=\"p\">])</span>\n",
              "                        <span class=\"n\">vj</span> <span class=\"o\">=</span> <span class=\"n\">tir</span><span class=\"o\">.</span><span class=\"n\">axis</span><span class=\"o\">.</span><span class=\"n\">spatial</span><span class=\"p\">(</span><span class=\"mi\">128</span><span class=\"p\">,</span> <span class=\"n\">j_0</span> <span class=\"o\">*</span> <span class=\"mi\">8</span> <span class=\"o\">+</span> <span class=\"n\">ax0</span><span class=\"p\">)</span>\n",
              "                        <span class=\"n\">tir</span><span class=\"o\">.</span><span class=\"n\">reads</span><span class=\"p\">(</span><span class=\"n\">Y</span><span class=\"p\">[</span><span class=\"n\">vn</span><span class=\"p\">,</span> <span class=\"n\">vi</span><span class=\"p\">,</span> <span class=\"n\">vj</span><span class=\"p\">])</span>\n",
              "                        <span class=\"n\">tir</span><span class=\"o\">.</span><span class=\"n\">writes</span><span class=\"p\">(</span><span class=\"n\">C</span><span class=\"p\">[</span><span class=\"n\">vn</span><span class=\"p\">,</span> <span class=\"n\">vi</span><span class=\"p\">,</span> <span class=\"n\">vj</span><span class=\"p\">])</span>\n",
              "                        <span class=\"n\">C</span><span class=\"p\">[</span><span class=\"n\">vn</span><span class=\"p\">,</span> <span class=\"n\">vi</span><span class=\"p\">,</span> <span class=\"n\">vj</span><span class=\"p\">]</span> <span class=\"o\">=</span> <span class=\"n\">tir</span><span class=\"o\">.</span><span class=\"n\">max</span><span class=\"p\">(</span><span class=\"n\">Y</span><span class=\"p\">[</span><span class=\"n\">vn</span><span class=\"p\">,</span> <span class=\"n\">vi</span><span class=\"p\">,</span> <span class=\"n\">vj</span><span class=\"p\">],</span> <span class=\"n\">tir</span><span class=\"o\">.</span><span class=\"n\">float32</span><span class=\"p\">(</span><span class=\"mi\">0</span><span class=\"p\">))</span>\n",
              "    \n",
              "</pre></div>\n",
              "\n"
            ]
          },
          "metadata": {},
          "execution_count": 34
        }
      ]
    },
    {
      "cell_type": "code",
      "source": [
        "tvm.ir.assert_structural_equal(sch.mod, TargetModule)\n",
        "print(\"Pass\")"
      ],
      "metadata": {
        "colab": {
          "base_uri": "https://localhost:8080/"
        },
        "id": "3ZJWDn7CYCI-",
        "outputId": "84d07746-5d96-4608-caf6-6f53f2f99fa9"
      },
      "execution_count": 35,
      "outputs": [
        {
          "output_type": "stream",
          "name": "stdout",
          "text": [
            "Pass\n"
          ]
        }
      ]
    }
  ]
}